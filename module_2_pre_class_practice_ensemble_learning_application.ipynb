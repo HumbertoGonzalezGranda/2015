{
  "nbformat": 4,
  "nbformat_minor": 0,
  "metadata": {
    "colab": {
      "name": "module-2-pre-class-practice-ensemble-learning-application.ipynb",
      "provenance": [],
      "include_colab_link": true
    },
    "kernelspec": {
      "name": "python3",
      "display_name": "Python 3"
    },
    "language_info": {
      "name": "python"
    }
  },
  "cells": [
    {
      "cell_type": "markdown",
      "metadata": {
        "id": "view-in-github",
        "colab_type": "text"
      },
      "source": [
        "<a href=\"https://colab.research.google.com/github/HumbertoGonzalezGranda/2015/blob/master/module_2_pre_class_practice_ensemble_learning_application.ipynb\" target=\"_parent\"><img src=\"https://colab.research.google.com/assets/colab-badge.svg\" alt=\"Open In Colab\"/></a>"
      ]
    },
    {
      "cell_type": "markdown",
      "metadata": {
        "id": "w0cBOWtIAmFG"
      },
      "source": [
        "Let's try to understand the law of large numbers in background to set up the voting classifiers."
      ]
    },
    {
      "cell_type": "code",
      "metadata": {
        "id": "S2JscsP4u4mg"
      },
      "source": [
        "heads_proba = 0.51\n",
        "coin_tosses = (np.random.rand(10000, 10) < heads_proba).astype(np.int32)\n",
        "cumulative_heads_ratio = np.cumsum(coin_tosses, axis=0) / np.arange(1, 10001).reshape(-1, 1)"
      ],
      "execution_count": null,
      "outputs": []
    },
    {
      "cell_type": "markdown",
      "metadata": {
        "id": "epHe9TmmvUBh"
      },
      "source": [
        "Let's experiment on the dataset, split it into train test for model fitting. "
      ]
    },
    {
      "cell_type": "code",
      "metadata": {
        "id": "2NxvsAxSAOet"
      },
      "source": [
        "from sklearn.model_selection import train_test_split\n",
        "from sklearn.datasets import make_moons\n",
        "\n",
        "X, y = make_moons(n_samples=500, noise=0.30, random_state=42)\n",
        "X_train, X_test, y_train, y_test = train_test_split(X, y, random_state=42)"
      ],
      "execution_count": null,
      "outputs": []
    },
    {
      "cell_type": "markdown",
      "metadata": {
        "id": "TbKTtjvCAPGW"
      },
      "source": [
        "Get a summary of all the features that are present in the dataset"
      ]
    },
    {
      "cell_type": "code",
      "metadata": {
        "id": "9-7sSSQ0ARQ0"
      },
      "source": [
        "s"
      ],
      "execution_count": null,
      "outputs": []
    },
    {
      "cell_type": "markdown",
      "metadata": {
        "id": "9ufxwEmIARft"
      },
      "source": [
        "Let's set up 2-3 classifier for our experimentation. "
      ]
    },
    {
      "cell_type": "code",
      "metadata": {
        "id": "tPQN2m7FAYN3"
      },
      "source": [
        "from sklearn.ensemble import RandomForestClassifier\n",
        "from sklearn.ensemble import VotingClassifier\n",
        "from sklearn.linear_model import LogisticRegression\n",
        "from sklearn.svm import SVC"
      ],
      "execution_count": null,
      "outputs": []
    },
    {
      "cell_type": "markdown",
      "metadata": {
        "id": "J7m37dCAAYsE"
      },
      "source": [
        "Observe Accuracy Score for aforementioned classifiers on the dataset"
      ]
    },
    {
      "cell_type": "code",
      "metadata": {
        "id": "ZfPb4gSJBIR8"
      },
      "source": [
        "from sklearn.metrics import accuracy_score"
      ],
      "execution_count": null,
      "outputs": []
    },
    {
      "cell_type": "markdown",
      "metadata": {
        "id": "5NKLN4EbBIne"
      },
      "source": [
        "Let's move on to Bagging and Boosting Ensembles for this task and plot the decision boundarise for better understanding.\n",
        "We will experiemnt with \n",
        "\n",
        "*   Decision trees\n",
        "*   Random Forest\n",
        "*   Adaboost\n",
        "*   Gradient Boosting\n",
        "\n",
        "We will also conduct plot/figure wise comparative analysis from previous classifiers to observe the shift in decisions made by the classifiers. \n",
        "\n",
        "\n"
      ]
    },
    {
      "cell_type": "code",
      "metadata": {
        "id": "O5fl9rdIBXj_"
      },
      "source": [
        ""
      ],
      "execution_count": null,
      "outputs": []
    }
  ]
}